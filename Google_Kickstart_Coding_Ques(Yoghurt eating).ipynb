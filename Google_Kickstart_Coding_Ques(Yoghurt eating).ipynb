{
  "nbformat": 4,
  "nbformat_minor": 0,
  "metadata": {
    "colab": {
      "name": "Kickstart Google Coding Ques.ipynb",
      "provenance": []
    },
    "kernelspec": {
      "name": "python3",
      "display_name": "Python 3"
    }
  },
  "cells": [
    {
      "cell_type": "markdown",
      "metadata": {
        "id": "l2Ie45C9vnCD"
      },
      "source": [
        " Given **T** = no.of test cases.\r\n",
        " For each T,\r\n",
        "**N** = no. of cups of Yogurt brought\r\n, **K** = max. no. of cups eaten in one day\r\n",
        "each **Ai** represent days from today after which corresponding i yoghurt will expired and can't be eaten after that day\r\n",
        "\r\n",
        "**Output**: How many max. Yogurts out of total can be eaten"
      ]
    },
    {
      "cell_type": "code",
      "metadata": {
        "id": "XZJ_1Uxyvc-K"
      },
      "source": [
        "# T = 2\r\n",
        "#1) N = 2, K = 1\r\n",
        "#   A1 = 1, A2 = 1\r\n",
        "#2) N = 5, K = 1\r\n",
        "#   A1 = 3, A2 = 2, A3 = 3, A4 = 2, A5 = 3\r\n",
        "\r\n",
        "# Output : Case1 = 1, Case2 = 3"
      ],
      "execution_count": null,
      "outputs": []
    },
    {
      "cell_type": "code",
      "metadata": {
        "id": "chqXRfGU0MHR"
      },
      "source": [
        "class CaseConsumption:\r\n",
        "    def __init__(self, bought, limit_per_day, expiration_dates):\r\n",
        "        self.bought = bought\r\n",
        "        self.limit_per_day = limit_per_day\r\n",
        "        self.expiration_dates = sorted(expiration_dates)\r\n",
        "        self.consume = 0\r\n",
        "    \r\n",
        "    def consumed(self):\r\n",
        "        day = 0\r\n",
        "        consumed_today = 0\r\n",
        "        total_consumed = 0\r\n",
        "        print(self.expiration_dates)\r\n",
        "        for j in self.expiration_dates:\r\n",
        "            if consumed_today == self.limit_per_day :\r\n",
        "                day += 1\r\n",
        "                consumed_today = 0\r\n",
        "\r\n",
        "            if day < j:\r\n",
        "                consumed_today += 1\r\n",
        "                total_consumed += 1\r\n",
        "\r\n",
        "        return total_consumed\r\n"
      ],
      "execution_count": 10,
      "outputs": []
    },
    {
      "cell_type": "code",
      "metadata": {
        "colab": {
          "base_uri": "https://localhost:8080/"
        },
        "id": "aGvd5woowZ1n",
        "outputId": "0ae0a076-613c-46ad-ba84-9cdc94cb671d"
      },
      "source": [
        "T = int(input('Enter T: '))\r\n",
        "for i in range(1,T+1):\r\n",
        "    no_of_cups_bought, limit_per_day = [int(j) for j in input().split()]\r\n",
        "    expiration_dates = [int(e) for e in input().split()]\r\n",
        "    print(expiration_dates)\r\n",
        "    case = CaseConsumption(no_of_cups_bought, limit_per_day, expiration_dates)\r\n",
        "    print('Case #{}: {}'.format(i, case.consumed()))\r\n",
        "# print(A)\r\n"
      ],
      "execution_count": 11,
      "outputs": [
        {
          "output_type": "stream",
          "text": [
            "Enter T: 2\n",
            "2 1\n",
            "1 1\n",
            "[1, 1]\n",
            "[1, 1]\n",
            "Case #1: 1\n",
            "5 1\n",
            "3 2 3 2 3\n",
            "[3, 2, 3, 2, 3]\n",
            "[2, 2, 3, 3, 3]\n",
            "Case #2: 3\n"
          ],
          "name": "stdout"
        }
      ]
    }
  ]
}